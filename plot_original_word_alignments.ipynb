{
 "cells": [
  {
   "cell_type": "markdown",
   "metadata": {},
   "source": [
    "### Plotting alignment data"
   ]
  },
  {
   "cell_type": "code",
   "execution_count": 1,
   "metadata": {},
   "outputs": [
    {
     "name": "stdout",
     "output_type": "stream",
     "text": [
      "Connection to SQLite DB successful\n",
      "Connection to SQLite DB successful\n"
     ]
    }
   ],
   "source": [
    "%matplotlib inline\n",
    "import pandas as pd\n",
    "import utils.db_utils as db\n",
    "import utils.plot_utils as plot\n",
    "from config import getConfig\n",
    "\n",
    "############################################\n",
    "# get configuration\n",
    "cfg = getConfig() # configure values in config.js\n",
    "############################################\n",
    "\n",
    "targetBibleType = cfg['targetBibleType']\n",
    "origLangPathGreek =  cfg['origLangPathGreek']\n",
    "origLangPathHebrew = cfg['origLangPathHebrew']\n",
    "targetLanguagePath = cfg['targetLanguagePath']\n",
    "dbPath = cfg['dbPath']\n",
    "testamentStr = cfg['testamentStr']\n",
    "baseDataPath = cfg['baseDataPath']\n",
    "\n",
    "targetLang = 'en'\n",
    "\n",
    "connections = db.initAlignmentDB(dbPath)\n",
    "connection = db.getConnectionForTable(connections, 'default')\n",
    "connection_owi = db.getConnectionForTable(connections, db.original_words_index_table)"
   ]
  },
  {
   "cell_type": "code",
   "execution_count": 2,
   "outputs": [
    {
     "name": "stdout",
     "output_type": "stream",
     "text": [
      "Found 1354 alignments\n"
     ]
    }
   ],
   "source": [
    "# find all alignments for this lemma\n",
    "def findAlignmentsForWord(connection_owi, word, minAlignments, searchLemma=False, maxRows=None):\n",
    "    alignmentsByWord = db.findAlignmentsFromIndexDbForOrigWord(connection_owi, word, searchLemma, maxRows)\n",
    "    alignmentsList, rejectedAlignmentsList = db.filterAlignments(alignmentsByWord, minAlignments)\n",
    "    return pd.DataFrame(alignmentsList)\n",
    "\n",
    "word = 'θεός' # Found 1354\n",
    "# word = 'καί' # Found 8995\n",
    "# word = 'ὁ' # Found 20377\n",
    "# word = 'αὐτός' # Found 5573\n",
    "\n",
    "minAlignments = 0\n",
    "lemmaAlignments = findAlignmentsForWord(connection_owi, word, minAlignments, searchLemma=True)\n",
    "print(f\"Found {len(lemmaAlignments)} alignments\")"
   ],
   "metadata": {
    "collapsed": false,
    "pycharm": {
     "name": "#%%\n"
    }
   }
  },
  {
   "cell_type": "code",
   "execution_count": 3,
   "outputs": [
    {
     "name": "stdout",
     "output_type": "stream",
     "text": [
      "Found 712 alignments\n"
     ]
    }
   ],
   "source": [
    "# find all alignments for this original word\n",
    "\n",
    "# word = 'Θεός' # found 69\n",
    "# word = 'Θεὸς' # found 239\n",
    "word = 'Θεοῦ'  # found 712\n",
    "# word = 'καί' # Found 32\n",
    "# word = 'καὶ' #Found 8961\n",
    "# word = 'τὸ' # Found 1715\n",
    "# word = 'αὐτοῦ' # Found 1415\n",
    "\n",
    "origAlignments = findAlignmentsForWord(connection_owi, word, minAlignments, searchLemma = False)\n",
    "print(f\"Found {len(origAlignments)} alignments\")"
   ],
   "metadata": {
    "collapsed": false,
    "pycharm": {
     "name": "#%%\n"
    }
   }
  },
  {
   "cell_type": "code",
   "execution_count": 4,
   "metadata": {
    "pycharm": {
     "name": "#%%\n"
    }
   },
   "outputs": [
    {
     "name": "stdout",
     "output_type": "stream",
     "text": [
      "Alignments description:\n",
      "       alignment_key  origWordsCount  origWordsBetween  targetWordsCount  \\\n",
      "count     712.000000      712.000000        712.000000        712.000000   \n",
      "mean    82251.289326        1.632022          0.002809          1.676966   \n",
      "std     33753.297013        0.491260          0.074953          0.519253   \n",
      "min      1047.000000        1.000000          0.000000          1.000000   \n",
      "25%     57349.250000        1.000000          0.000000          1.000000   \n",
      "50%     86998.000000        2.000000          0.000000          2.000000   \n",
      "75%    109115.750000        2.000000          0.000000          2.000000   \n",
      "max    130089.000000        3.000000          2.000000          6.000000   \n",
      "\n",
      "       targetWordsBetween  alignmentTxtFrequency  alignmentsTotal  \\\n",
      "count               712.0             712.000000            712.0   \n",
      "mean                  0.0              24.639802            712.0   \n",
      "std                   0.0              15.396044              0.0   \n",
      "min                   0.0               0.140449            712.0   \n",
      "25%                   0.0              14.044944            712.0   \n",
      "50%                   0.0              16.573034            712.0   \n",
      "75%                   0.0              41.994382            712.0   \n",
      "max                   0.0              41.994382            712.0   \n",
      "\n",
      "       alignmentsTextFreqPeak  \n",
      "count            7.120000e+02  \n",
      "mean             4.199438e+01  \n",
      "std              7.110422e-15  \n",
      "min              4.199438e+01  \n",
      "25%              4.199438e+01  \n",
      "50%              4.199438e+01  \n",
      "75%              4.199438e+01  \n",
      "max              4.199438e+01  \n",
      "fields = ['alignment_key', 'origWordsCount', 'origWordsBetween', 'targetWordsCount', 'targetWordsBetween', 'alignmentTxtFrequency', 'alignmentsTotal', 'alignmentsTextFreqPeak']\n",
      "\n",
      "Frequency of alignment_key:\n",
      "105023    1\n",
      "53580     1\n",
      "68970     1\n",
      "110953    1\n",
      "44392     1\n",
      "         ..\n",
      "129206    1\n",
      "16042     1\n",
      "11945     1\n",
      "111089    1\n",
      "116736    1\n",
      "Name: alignment_key, Length: 712, dtype: int64\n",
      "\n",
      "Frequency of origWordsCount:\n",
      "2    444\n",
      "1    265\n",
      "3      3\n",
      "Name: origWordsCount, dtype: int64\n",
      "\n",
      "Frequency of origWordsBetween:\n",
      "0    711\n",
      "2      1\n",
      "Name: origWordsBetween, dtype: int64\n",
      "\n",
      "Frequency of targetWordsCount:\n",
      "2    464\n",
      "1    241\n",
      "3      5\n",
      "6      1\n",
      "4      1\n",
      "Name: targetWordsCount, dtype: int64\n",
      "\n",
      "Frequency of targetWordsBetween:\n",
      "0    712\n",
      "Name: targetWordsBetween, dtype: int64\n",
      "\n",
      "Frequency of alignmentTxtFrequency:\n",
      "41.994382    299\n",
      "16.573034    118\n",
      "14.325843    102\n",
      "14.044944    100\n",
      "3.230337      23\n",
      "2.808989      20\n",
      "0.140449      18\n",
      "1.544944      11\n",
      "1.123596       8\n",
      "0.702247       5\n",
      "0.561798       4\n",
      "0.280899       4\n",
      "Name: alignmentTxtFrequency, dtype: int64\n",
      "\n",
      "Frequency of alignmentsTotal:\n",
      "712    712\n",
      "Name: alignmentsTotal, dtype: int64\n",
      "\n",
      "Frequency of alignmentsTextFreqPeak:\n",
      "41.994382    712\n",
      "Name: alignmentsTextFreqPeak, dtype: int64\n"
     ]
    },
    {
     "data": {
      "text/plain": "{'desc': {'alignment_key': {'count': 712.0,\n   'mean': 82251.28932584269,\n   'std': 33753.297013483716,\n   'min': 1047.0,\n   '25%': 57349.25,\n   '50%': 86998.0,\n   '75%': 109115.75,\n   'max': 130089.0},\n  'origWordsCount': {'count': 712.0,\n   'mean': 1.6320224719101124,\n   'std': 0.4912595935374137,\n   'min': 1.0,\n   '25%': 1.0,\n   '50%': 2.0,\n   '75%': 2.0,\n   'max': 3.0},\n  'origWordsBetween': {'count': 712.0,\n   'mean': 0.0028089887640449437,\n   'std': 0.07495316889958614,\n   'min': 0.0,\n   '25%': 0.0,\n   '50%': 0.0,\n   '75%': 0.0,\n   'max': 2.0},\n  'targetWordsCount': {'count': 712.0,\n   'mean': 1.6769662921348314,\n   'std': 0.5192527455591942,\n   'min': 1.0,\n   '25%': 1.0,\n   '50%': 2.0,\n   '75%': 2.0,\n   'max': 6.0},\n  'targetWordsBetween': {'count': 712.0,\n   'mean': 0.0,\n   'std': 0.0,\n   'min': 0.0,\n   '25%': 0.0,\n   '50%': 0.0,\n   '75%': 0.0,\n   'max': 0.0},\n  'alignmentTxtFrequency': {'count': 712.0,\n   'mean': 24.63980242393637,\n   'std': 15.396043953078559,\n   'min': 0.1404494382022472,\n   '25%': 14.04494382022472,\n   '50%': 16.573033707865168,\n   '75%': 41.99438202247191,\n   'max': 41.99438202247191},\n  'alignmentsTotal': {'count': 712.0,\n   'mean': 712.0,\n   'std': 0.0,\n   'min': 712.0,\n   '25%': 712.0,\n   '50%': 712.0,\n   '75%': 712.0,\n   'max': 712.0},\n  'alignmentsTextFreqPeak': {'count': 712.0,\n   'mean': 41.9943820224719,\n   'std': 7.110422386237314e-15,\n   'min': 41.99438202247191,\n   '25%': 41.99438202247191,\n   '50%': 41.99438202247191,\n   '75%': 41.99438202247191,\n   'max': 41.99438202247191}},\n 'fields': {'alignment_key': [1,\n   1,\n   1,\n   1,\n   1,\n   1,\n   1,\n   1,\n   1,\n   1,\n   1,\n   1,\n   1,\n   1,\n   1,\n   1,\n   1,\n   1,\n   1,\n   1,\n   1,\n   1,\n   1,\n   1,\n   1,\n   1,\n   1,\n   1,\n   1,\n   1,\n   1,\n   1,\n   1,\n   1,\n   1,\n   1,\n   1,\n   1,\n   1,\n   1,\n   1,\n   1,\n   1,\n   1,\n   1,\n   1,\n   1,\n   1,\n   1,\n   1,\n   1,\n   1,\n   1,\n   1,\n   1,\n   1,\n   1,\n   1,\n   1,\n   1,\n   1,\n   1,\n   1,\n   1,\n   1,\n   1,\n   1,\n   1,\n   1,\n   1,\n   1,\n   1,\n   1,\n   1,\n   1,\n   1,\n   1,\n   1,\n   1,\n   1,\n   1,\n   1,\n   1,\n   1,\n   1,\n   1,\n   1,\n   1,\n   1,\n   1,\n   1,\n   1,\n   1,\n   1,\n   1,\n   1,\n   1,\n   1,\n   1,\n   1,\n   1,\n   1,\n   1,\n   1,\n   1,\n   1,\n   1,\n   1,\n   1,\n   1,\n   1,\n   1,\n   1,\n   1,\n   1,\n   1,\n   1,\n   1,\n   1,\n   1,\n   1,\n   1,\n   1,\n   1,\n   1,\n   1,\n   1,\n   1,\n   1,\n   1,\n   1,\n   1,\n   1,\n   1,\n   1,\n   1,\n   1,\n   1,\n   1,\n   1,\n   1,\n   1,\n   1,\n   1,\n   1,\n   1,\n   1,\n   1,\n   1,\n   1,\n   1,\n   1,\n   1,\n   1,\n   1,\n   1,\n   1,\n   1,\n   1,\n   1,\n   1,\n   1,\n   1,\n   1,\n   1,\n   1,\n   1,\n   1,\n   1,\n   1,\n   1,\n   1,\n   1,\n   1,\n   1,\n   1,\n   1,\n   1,\n   1,\n   1,\n   1,\n   1,\n   1,\n   1,\n   1,\n   1,\n   1,\n   1,\n   1,\n   1,\n   1,\n   1,\n   1,\n   1,\n   1,\n   1,\n   1,\n   1,\n   1,\n   1,\n   1,\n   1,\n   1,\n   1,\n   1,\n   1,\n   1,\n   1,\n   1,\n   1,\n   1,\n   1,\n   1,\n   1,\n   1,\n   1,\n   1,\n   1,\n   1,\n   1,\n   1,\n   1,\n   1,\n   1,\n   1,\n   1,\n   1,\n   1,\n   1,\n   1,\n   1,\n   1,\n   1,\n   1,\n   1,\n   1,\n   1,\n   1,\n   1,\n   1,\n   1,\n   1,\n   1,\n   1,\n   1,\n   1,\n   1,\n   1,\n   1,\n   1,\n   1,\n   1,\n   1,\n   1,\n   1,\n   1,\n   1,\n   1,\n   1,\n   1,\n   1,\n   1,\n   1,\n   1,\n   1,\n   1,\n   1,\n   1,\n   1,\n   1,\n   1,\n   1,\n   1,\n   1,\n   1,\n   1,\n   1,\n   1,\n   1,\n   1,\n   1,\n   1,\n   1,\n   1,\n   1,\n   1,\n   1,\n   1,\n   1,\n   1,\n   1,\n   1,\n   1,\n   1,\n   1,\n   1,\n   1,\n   1,\n   1,\n   1,\n   1,\n   1,\n   1,\n   1,\n   1,\n   1,\n   1,\n   1,\n   1,\n   1,\n   1,\n   1,\n   1,\n   1,\n   1,\n   1,\n   1,\n   1,\n   1,\n   1,\n   1,\n   1,\n   1,\n   1,\n   1,\n   1,\n   1,\n   1,\n   1,\n   1,\n   1,\n   1,\n   1,\n   1,\n   1,\n   1,\n   1,\n   1,\n   1,\n   1,\n   1,\n   1,\n   1,\n   1,\n   1,\n   1,\n   1,\n   1,\n   1,\n   1,\n   1,\n   1,\n   1,\n   1,\n   1,\n   1,\n   1,\n   1,\n   1,\n   1,\n   1,\n   1,\n   1,\n   1,\n   1,\n   1,\n   1,\n   1,\n   1,\n   1,\n   1,\n   1,\n   1,\n   1,\n   1,\n   1,\n   1,\n   1,\n   1,\n   1,\n   1,\n   1,\n   1,\n   1,\n   1,\n   1,\n   1,\n   1,\n   1,\n   1,\n   1,\n   1,\n   1,\n   1,\n   1,\n   1,\n   1,\n   1,\n   1,\n   1,\n   1,\n   1,\n   1,\n   1,\n   1,\n   1,\n   1,\n   1,\n   1,\n   1,\n   1,\n   1,\n   1,\n   1,\n   1,\n   1,\n   1,\n   1,\n   1,\n   1,\n   1,\n   1,\n   1,\n   1,\n   1,\n   1,\n   1,\n   1,\n   1,\n   1,\n   1,\n   1,\n   1,\n   1,\n   1,\n   1,\n   1,\n   1,\n   1,\n   1,\n   1,\n   1,\n   1,\n   1,\n   1,\n   1,\n   1,\n   1,\n   1,\n   1,\n   1,\n   1,\n   1,\n   1,\n   1,\n   1,\n   1,\n   1,\n   1,\n   1,\n   1,\n   1,\n   1,\n   1,\n   1,\n   1,\n   1,\n   1,\n   1,\n   1,\n   1,\n   1,\n   1,\n   1,\n   1,\n   1,\n   1,\n   1,\n   1,\n   1,\n   1,\n   1,\n   1,\n   1,\n   1,\n   1,\n   1,\n   1,\n   1,\n   1,\n   1,\n   1,\n   1,\n   1,\n   1,\n   1,\n   1,\n   1,\n   1,\n   1,\n   1,\n   1,\n   1,\n   1,\n   1,\n   1,\n   1,\n   1,\n   1,\n   1,\n   1,\n   1,\n   1,\n   1,\n   1,\n   1,\n   1,\n   1,\n   1,\n   1,\n   1,\n   1,\n   1,\n   1,\n   1,\n   1,\n   1,\n   1,\n   1,\n   1,\n   1,\n   1,\n   1,\n   1,\n   1,\n   1,\n   1,\n   1,\n   1,\n   1,\n   1,\n   1,\n   1,\n   1,\n   1,\n   1,\n   1,\n   1,\n   1,\n   1,\n   1,\n   1,\n   1,\n   1,\n   1,\n   1,\n   1,\n   1,\n   1,\n   1,\n   1,\n   1,\n   1,\n   1,\n   1,\n   1,\n   1,\n   1,\n   1,\n   1,\n   1,\n   1,\n   1,\n   1,\n   1,\n   1,\n   1,\n   1,\n   1,\n   1,\n   1,\n   1,\n   1,\n   1,\n   1,\n   1,\n   1,\n   1,\n   1,\n   1,\n   1,\n   1,\n   1,\n   1,\n   1,\n   1,\n   1,\n   1,\n   1,\n   1,\n   1,\n   1,\n   1,\n   1,\n   1,\n   1,\n   1,\n   1,\n   1,\n   1,\n   1,\n   1,\n   1,\n   1,\n   1,\n   1,\n   1,\n   1,\n   1,\n   1,\n   1,\n   1,\n   1,\n   1,\n   1,\n   1,\n   1,\n   1,\n   1,\n   1,\n   1,\n   1,\n   1,\n   1,\n   1,\n   1,\n   1,\n   1,\n   1,\n   1,\n   1,\n   1,\n   1,\n   1,\n   1,\n   1,\n   1,\n   1,\n   1,\n   1,\n   1,\n   1,\n   1,\n   1,\n   1,\n   1,\n   1,\n   1,\n   1,\n   1,\n   1,\n   1,\n   1,\n   1,\n   1,\n   1,\n   1,\n   1,\n   1,\n   1,\n   1,\n   1,\n   1,\n   1,\n   1,\n   1,\n   1,\n   1,\n   1,\n   1,\n   1,\n   1,\n   1,\n   1,\n   1,\n   1,\n   1,\n   1,\n   1,\n   1,\n   1,\n   1,\n   1,\n   1,\n   1,\n   1,\n   1,\n   1,\n   1,\n   1,\n   1,\n   1,\n   1,\n   1,\n   1,\n   1,\n   1,\n   1,\n   1,\n   1,\n   1,\n   1],\n  'origWordsCount': [444, 265, 3],\n  'origWordsBetween': [711, 1],\n  'targetWordsCount': [464, 241, 5, 1, 1],\n  'targetWordsBetween': [712],\n  'alignmentTxtFrequency': [299, 118, 102, 100, 23, 20, 18, 11, 8, 5, 4, 4],\n  'alignmentsTotal': [712],\n  'alignmentsTextFreqPeak': [712]}}"
     },
     "execution_count": 4,
     "metadata": {},
     "output_type": "execute_result"
    }
   ],
   "source": [
    "db.describeAlignments(origAlignments)"
   ]
  },
  {
   "cell_type": "markdown",
   "metadata": {},
   "source": [
    "### Analysis of alignments for Θεοῦ in the en_ult:"
   ]
  },
  {
   "cell_type": "markdown",
   "metadata": {},
   "source": [
    "#### Frequency of alignments:"
   ]
  },
  {
   "cell_type": "code",
   "execution_count": 5,
   "metadata": {
    "pycharm": {
     "name": "#%%\n"
    }
   },
   "outputs": [
    {
     "name": "stdout",
     "output_type": "stream",
     "text": [
      "τοῦ Θεοῦ = of God                          299\n",
      "Θεοῦ = God                                 118\n",
      "Θεοῦ = of God                              102\n",
      "τοῦ Θεοῦ = God                             100\n",
      "Θεοῦ = God s                                23\n",
      "τοῦ Θεοῦ = God s                            20\n",
      "τοῦ Θεοῦ = of                               11\n",
      "Θεοῦ = of                                    8\n",
      "Θεοῦ = of the                                5\n",
      "τοῦ Θεοῦ = from God                          4\n",
      "τοῦ Θεοῦ = to God                            2\n",
      "τοῦ Θεοῦ = of God s                          2\n",
      "ἐνώπιον τοῦ Θεοῦ = and God                   1\n",
      "Θεοῦ = the Son                               1\n",
      "τὴν τοῦ Θεοῦ = of God s                      1\n",
      "τοῦ Θεοῦ = godly                             1\n",
      "τὰ τοῦ Θεοῦ = the things that are God s      1\n",
      "τοῦ Θεοῦ = about God                         1\n",
      "Θεοῦ = in God                                1\n",
      "Θεοῦ = Father                                1\n",
      "ὅτι Θεοῦ = of God                            1\n",
      "Θεοῦ = because of God                        1\n",
      "λόγια Θεοῦ = with God s words                1\n",
      "Θεοῦ = the                                   1\n",
      "Θεοῦ = godly                                 1\n",
      "τοῦ Θεοῦ = against God                       1\n",
      "Θεοῦ = by God                                1\n",
      "μὲν Θεοῦ = of God                            1\n",
      "Θεοῦ = for God                               1\n",
      "Θεοῦ = of a god                              1\n",
      "Name: alignmentText, dtype: int64\n"
     ]
    }
   ],
   "source": [
    "frequency = origAlignments['alignmentText'].value_counts()\n",
    "print(frequency)"
   ]
  },
  {
   "cell_type": "markdown",
   "metadata": {},
   "source": [
    "##### Notes:\n",
    "- the left column is the specific alignment, and the right column is the number of times that specific alignment has been made so far in the NT.\n",
    "- alignments that contain more words are more suspect.\n",
    "- in future will combine \"God s\" to \"God's\" before doing analysis\n",
    "<p></p>"
   ]
  },
  {
   "cell_type": "code",
   "execution_count": 6,
   "metadata": {
    "pycharm": {
     "name": "#%%\n"
    }
   },
   "outputs": [
    {
     "data": {
      "text/plain": "<Figure size 792x504 with 1 Axes>",
      "image/png": "[encoded data removed]"
     },
     "metadata": {
      "needs_background": "light"
     },
     "output_type": "display_data"
    }
   ],
   "source": [
    "plot.plotFieldFrequency(frequency, \"\", 'alignment', title=\"Frequency of Alignments\", xNumbers=False, xShowTicks=False)"
   ]
  },
  {
   "cell_type": "markdown",
   "metadata": {},
   "source": [
    "### Analysis:"
   ]
  },
  {
   "cell_type": "markdown",
   "metadata": {},
   "source": [
    "#### Analysis of numerical metrics:"
   ]
  },
  {
   "cell_type": "code",
   "execution_count": 7,
   "metadata": {
    "pycharm": {
     "name": "#%%\n"
    }
   },
   "outputs": [
    {
     "name": "stdout",
     "output_type": "stream",
     "text": [
      "Alignments description:\n",
      "       alignment_key  origWordsCount  origWordsBetween  targetWordsCount  \\\n",
      "count     712.000000      712.000000        712.000000        712.000000   \n",
      "mean    82251.289326        1.632022          0.002809          1.676966   \n",
      "std     33753.297013        0.491260          0.074953          0.519253   \n",
      "min      1047.000000        1.000000          0.000000          1.000000   \n",
      "25%     57349.250000        1.000000          0.000000          1.000000   \n",
      "50%     86998.000000        2.000000          0.000000          2.000000   \n",
      "75%    109115.750000        2.000000          0.000000          2.000000   \n",
      "max    130089.000000        3.000000          2.000000          6.000000   \n",
      "\n",
      "       targetWordsBetween  alignmentTxtFrequency  alignmentsTotal  \\\n",
      "count               712.0             712.000000            712.0   \n",
      "mean                  0.0              24.639802            712.0   \n",
      "std                   0.0              15.396044              0.0   \n",
      "min                   0.0               0.140449            712.0   \n",
      "25%                   0.0              14.044944            712.0   \n",
      "50%                   0.0              16.573034            712.0   \n",
      "75%                   0.0              41.994382            712.0   \n",
      "max                   0.0              41.994382            712.0   \n",
      "\n",
      "       alignmentsTextFreqPeak  \n",
      "count            7.120000e+02  \n",
      "mean             4.199438e+01  \n",
      "std              7.110422e-15  \n",
      "min              4.199438e+01  \n",
      "25%              4.199438e+01  \n",
      "50%              4.199438e+01  \n",
      "75%              4.199438e+01  \n",
      "max              4.199438e+01  \n"
     ]
    }
   ],
   "source": [
    "descr = origAlignments.describe()\n",
    "print(f\"Alignments description:\\n{descr}\")"
   ]
  },
  {
   "cell_type": "markdown",
   "metadata": {},
   "source": [
    "#### Analysis of original language word count:"
   ]
  },
  {
   "cell_type": "code",
   "execution_count": 8,
   "metadata": {
    "pycharm": {
     "name": "#%%\n"
    }
   },
   "outputs": [
    {
     "name": "stdout",
     "output_type": "stream",
     "text": [
      "\n",
      "Frequency of origWordsCount:\n",
      "1    265\n",
      "2    444\n",
      "3      3\n",
      "Name: origWordsCount, dtype: int64\n"
     ]
    }
   ],
   "source": [
    "field = 'origWordsCount'\n",
    "field_frequency = origAlignments[field].value_counts().sort_index()\n",
    "print(f\"\\nFrequency of {field}:\\n{field_frequency}\")"
   ]
  },
  {
   "cell_type": "markdown",
   "metadata": {},
   "source": [
    "##### Notes:\n",
    "- this field analysis suggests for θεός nearly all the original language word counts are tight. The word counts of 3 may need review. So we could probaby use that as a threshold for to flag for review.\n",
    "<p></p>"
   ]
  },
  {
   "cell_type": "markdown",
   "metadata": {
    "pycharm": {
     "name": "#%% md\n"
    }
   },
   "source": [
    "#### Analysis of target language word count:"
   ]
  },
  {
   "cell_type": "code",
   "execution_count": 9,
   "metadata": {
    "pycharm": {
     "name": "#%%\n"
    }
   },
   "outputs": [
    {
     "name": "stdout",
     "output_type": "stream",
     "text": [
      "\n",
      "Frequency of targetWordsCount:\n",
      "1    241\n",
      "2    464\n",
      "3      5\n",
      "4      1\n",
      "6      1\n",
      "Name: targetWordsCount, dtype: int64\n"
     ]
    }
   ],
   "source": [
    "field = 'targetWordsCount'\n",
    "field_frequency = origAlignments[field].value_counts().sort_index()\n",
    "print(f\"\\nFrequency of {field}:\\n{field_frequency}\")"
   ]
  },
  {
   "cell_type": "markdown",
   "metadata": {},
   "source": [
    "##### Notes:\n",
    "- this field analysis suggests that for θεός likely all the target language word counts are tight. The word count of 3 probably good for English (`of a god`). But still we could probaby use that as a threshold for to flag for review.\n",
    "<p></p>"
   ]
  },
  {
   "cell_type": "markdown",
   "metadata": {},
   "source": [
    "#### Analysis of count of extra unaligned words between aligned original language words:"
   ]
  },
  {
   "cell_type": "code",
   "execution_count": 10,
   "metadata": {
    "pycharm": {
     "name": "#%%\n"
    }
   },
   "outputs": [
    {
     "name": "stdout",
     "output_type": "stream",
     "text": [
      "\n",
      "Frequency of origWordsBetween:\n",
      "0    711\n",
      "2      1\n",
      "Name: origWordsBetween, dtype: int64\n"
     ]
    },
    {
     "data": {
      "text/plain": "<Figure size 792x504 with 1 Axes>",
      "image/png": "[encoded data removed]"
     },
     "metadata": {
      "needs_background": "light"
     },
     "output_type": "display_data"
    }
   ],
   "source": [
    "field = 'origWordsBetween'\n",
    "field_frequency = origAlignments[field].value_counts().sort_index()\n",
    "print(f\"\\nFrequency of {field}:\\n{field_frequency}\")\n",
    "plot.plotFieldFrequency(field_frequency, field, f\"Words Between\", max=10)"
   ]
  },
  {
   "cell_type": "markdown",
   "metadata": {},
   "source": [
    "##### Notes:\n",
    "- this field analysis suggests that most original language alignments probably good. Probably the cases of a word between (count > 0) aligned words should be reviewed.\n",
    "<p></p>"
   ]
  },
  {
   "cell_type": "markdown",
   "metadata": {},
   "source": [
    "#### Analysis of count of extra unaligned words between aligned target language words:"
   ]
  },
  {
   "cell_type": "code",
   "execution_count": 11,
   "metadata": {
    "pycharm": {
     "name": "#%%\n"
    }
   },
   "outputs": [
    {
     "name": "stdout",
     "output_type": "stream",
     "text": [
      "\n",
      "Frequency of targetWordsBetween:\n",
      "0    712\n",
      "Name: targetWordsBetween, dtype: int64\n"
     ]
    },
    {
     "data": {
      "text/plain": "<Figure size 792x504 with 1 Axes>",
      "image/png": "[encoded data removed]"
     },
     "metadata": {
      "needs_background": "light"
     },
     "output_type": "display_data"
    }
   ],
   "source": [
    "field = 'targetWordsBetween'\n",
    "field_frequency = origAlignments[field].value_counts().sort_index()\n",
    "print(f\"\\nFrequency of {field}:\\n{field_frequency}\")\n",
    "plot.plotFieldFrequency(field_frequency, field, f\"Words Between\", max=10)"
   ]
  },
  {
   "cell_type": "markdown",
   "metadata": {
    "pycharm": {
     "name": "#%% md\n"
    }
   },
   "source": [
    "##### Notes:\n",
    "- this field analysis suggests that most target language alignments probably good. Large gaps between aligned words are likely due to wordmap suggesting wrong occurence of a word and the user selecting. Probably the cases of a word between (count > 0) aligned words should be reviewed.\n",
    "<p></p>"
   ]
  },
  {
   "cell_type": "code",
   "execution_count": 11,
   "outputs": [],
   "source": [],
   "metadata": {
    "collapsed": false,
    "pycharm": {
     "name": "#%%\n"
    }
   }
  },
  {
   "cell_type": "code",
   "execution_count": null,
   "outputs": [],
   "source": [],
   "metadata": {
    "collapsed": false,
    "pycharm": {
     "name": "#%%\n"
    }
   }
  }
 ],
 "metadata": {
  "kernelspec": {
   "display_name": "Python 3",
   "language": "python",
   "name": "python3"
  },
  "language_info": {
   "codemirror_mode": {
    "name": "ipython",
    "version": 3
   },
   "file_extension": ".py",
   "mimetype": "text/x-python",
   "name": "python",
   "nbconvert_exporter": "python",
   "pygments_lexer": "ipython3",
   "version": "3.8.5"
  }
 },
 "nbformat": 4,
 "nbformat_minor": 4
}