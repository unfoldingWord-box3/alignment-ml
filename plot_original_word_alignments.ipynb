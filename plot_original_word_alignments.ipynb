{
 "cells": [
  {
   "cell_type": "markdown",
   "metadata": {},
   "source": [
    "### Plotting alignment data"
   ]
  },
  {
   "cell_type": "code",
   "execution_count": 1,
   "metadata": {},
   "outputs": [
    {
     "name": "stdout",
     "output_type": "stream",
     "text": [
      "Connection to SQLite DB successful\n",
      "Connection to SQLite DB successful\n"
     ]
    }
   ],
   "source": [
    "%matplotlib inline\n",
    "import pandas as pd\n",
    "import utils.db_utils as db\n",
    "import utils.plot_utils as plot\n",
    "from config import getConfig\n",
    "\n",
    "############################################\n",
    "# get configuration\n",
    "cfg = getConfig() # configure values in config.js\n",
    "############################################\n",
    "\n",
    "targetBibleType = cfg['targetBibleType']\n",
    "origLangPathGreek =  cfg['origLangPathGreek']\n",
    "origLangPathHebrew = cfg['origLangPathHebrew']\n",
    "targetLanguagePath = cfg['targetLanguagePath']\n",
    "dbPath = cfg['dbPath']\n",
    "testamentStr = cfg['testamentStr']\n",
    "baseDataPath = cfg['baseDataPath']\n",
    "\n",
    "targetLang = 'en'\n",
    "\n",
    "connections = db.initAlignmentDB(dbPath)\n",
    "connection = db.getConnectionForTable(connections, 'default')\n",
    "connection_owi = db.getConnectionForTable(connections, db.original_words_index_table)"
   ]
  },
  {
   "cell_type": "code",
   "execution_count": 15,
   "outputs": [
    {
     "name": "stdout",
     "output_type": "stream",
     "text": [
      "Found 5573 alignments\n"
     ]
    }
   ],
   "source": [
    "# find all alignments for this lemma\n",
    "def findAlignmentsForWord(connection_owi, word, minAlignments, searchLemma=False, maxRows=None):\n",
    "    alignmentsByWord = db.findAlignmentsFromIndexDbForOrigWord(connection_owi, word, searchLemma, maxRows)\n",
    "    alignmentsList, rejectedAlignmentsList = db.filterAlignments(alignmentsByWord, minAlignments)\n",
    "    return pd.DataFrame(alignmentsList)\n",
    "\n",
    "# word = 'θεός'\n",
    "# word = 'καί' # Found 8995\n",
    "# word = 'ὁ' # Found 20377\n",
    "word = 'αὐτός' # Found 5573\n",
    "\n",
    "minAlignments = 0\n",
    "lemmaAlignments = findAlignmentsForWord(connection_owi, word, minAlignments, searchLemma=True)\n",
    "print(f\"Found {len(lemmaAlignments)} alignments\")"
   ],
   "metadata": {
    "collapsed": false,
    "pycharm": {
     "name": "#%%\n"
    }
   }
  },
  {
   "cell_type": "code",
   "execution_count": 16,
   "outputs": [
    {
     "name": "stdout",
     "output_type": "stream",
     "text": [
      "Found 1415 alignments\n"
     ]
    }
   ],
   "source": [
    "# find all alignments for this original word\n",
    "\n",
    "# word = 'Θεός' # found 69\n",
    "# word = 'Θεὸς' # found 239\n",
    "# word = 'Θεοῦ'  # found 712\n",
    "# word = 'καί' # Found 32\n",
    "# word = 'καὶ' #Found 8961\n",
    "# word = 'τὸ' # Found 1715\n",
    "word = 'αὐτοῦ' # Found 1415\n",
    "\n",
    "origAlignments = findAlignmentsForWord(connection_owi, word, minAlignments, searchLemma = False)\n",
    "print(f\"Found {len(origAlignments)} alignments\")"
   ],
   "metadata": {
    "collapsed": false,
    "pycharm": {
     "name": "#%%\n"
    }
   }
  },
  {
   "cell_type": "code",
   "execution_count": 17,
   "metadata": {
    "pycharm": {
     "name": "#%%\n"
    }
   },
   "outputs": [
    {
     "name": "stdout",
     "output_type": "stream",
     "text": [
      "Alignments description:\n",
      "       alignment_key  origWordsCount  origWordsBetween  targetWordsCount  \\\n",
      "count    1415.000000     1415.000000       1415.000000       1415.000000   \n",
      "mean    56414.004240        1.031802          0.001413          1.067845   \n",
      "std     40746.154226        0.254477          0.053168          0.300267   \n",
      "min        21.000000        1.000000          0.000000          1.000000   \n",
      "25%     21498.500000        1.000000          0.000000          1.000000   \n",
      "50%     47073.000000        1.000000          0.000000          1.000000   \n",
      "75%     94699.000000        1.000000          0.000000          1.000000   \n",
      "max    130397.000000        5.000000          2.000000          4.000000   \n",
      "\n",
      "       targetWordsBetween  alignmentTxtFrequency  alignmentsTotal  \\\n",
      "count              1415.0            1415.000000           1415.0   \n",
      "mean                  0.0              47.762914           1415.0   \n",
      "std                   0.0              28.531895              0.0   \n",
      "min                   0.0               0.070671           1415.0   \n",
      "25%                   0.0              14.346290           1415.0   \n",
      "50%                   0.0              67.420495           1415.0   \n",
      "75%                   0.0              67.420495           1415.0   \n",
      "max                   0.0              67.420495           1415.0   \n",
      "\n",
      "       alignmentsTextFreqPeak  \n",
      "count            1.415000e+03  \n",
      "mean             6.742049e+01  \n",
      "std              1.421588e-14  \n",
      "min              6.742049e+01  \n",
      "25%              6.742049e+01  \n",
      "50%              6.742049e+01  \n",
      "75%              6.742049e+01  \n",
      "max              6.742049e+01  \n",
      "fields = ['alignment_key', 'origWordsCount', 'origWordsBetween', 'targetWordsCount', 'targetWordsBetween', 'alignmentTxtFrequency', 'alignmentsTotal', 'alignmentsTextFreqPeak']\n",
      "\n",
      "Frequency of alignment_key:\n",
      "123489    1\n",
      "11010     1\n",
      "4774      1\n",
      "84647     1\n",
      "78506     1\n",
      "         ..\n",
      "27995     1\n",
      "27997     1\n",
      "64332     1\n",
      "27399     1\n",
      "119724    1\n",
      "Name: alignment_key, Length: 1415, dtype: int64\n",
      "\n",
      "Frequency of origWordsCount:\n",
      "1    1388\n",
      "2      14\n",
      "3       9\n",
      "4       3\n",
      "5       1\n",
      "Name: origWordsCount, dtype: int64\n",
      "\n",
      "Frequency of origWordsBetween:\n",
      "0    1414\n",
      "2       1\n",
      "Name: origWordsBetween, dtype: int64\n",
      "\n",
      "Frequency of targetWordsCount:\n",
      "1    1334\n",
      "2      70\n",
      "3       7\n",
      "4       4\n",
      "Name: targetWordsCount, dtype: int64\n",
      "\n",
      "Frequency of targetWordsBetween:\n",
      "0    1415\n",
      "Name: targetWordsBetween, dtype: int64\n",
      "\n",
      "Frequency of alignmentTxtFrequency:\n",
      "67.420495    954\n",
      "14.346290    203\n",
      "1.908127      54\n",
      "0.070671      53\n",
      "3.604240      51\n",
      "1.201413      34\n",
      "0.141343      18\n",
      "0.282686      12\n",
      "0.353357      10\n",
      "0.636042       9\n",
      "0.212014       9\n",
      "0.565371       8\n",
      "Name: alignmentTxtFrequency, dtype: int64\n",
      "\n",
      "Frequency of alignmentsTotal:\n",
      "1415    1415\n",
      "Name: alignmentsTotal, dtype: int64\n",
      "\n",
      "Frequency of alignmentsTextFreqPeak:\n",
      "67.420495    1415\n",
      "Name: alignmentsTextFreqPeak, dtype: int64\n"
     ]
    },
    {
     "data": {
      "text/plain": "{'desc': {'alignment_key': {'count': 1415.0,\n   'mean': 56414.00424028269,\n   'std': 40746.154226438084,\n   'min': 21.0,\n   '25%': 21498.5,\n   '50%': 47073.0,\n   '75%': 94699.0,\n   'max': 130397.0},\n  'origWordsCount': {'count': 1415.0,\n   'mean': 1.0318021201413428,\n   'std': 0.2544774502722347,\n   'min': 1.0,\n   '25%': 1.0,\n   '50%': 1.0,\n   '75%': 1.0,\n   'max': 5.0},\n  'origWordsBetween': {'count': 1415.0,\n   'mean': 0.0014134275618374558,\n   'std': 0.05316817773513506,\n   'min': 0.0,\n   '25%': 0.0,\n   '50%': 0.0,\n   '75%': 0.0,\n   'max': 2.0},\n  'targetWordsCount': {'count': 1415.0,\n   'mean': 1.0678445229681979,\n   'std': 0.300267355874017,\n   'min': 1.0,\n   '25%': 1.0,\n   '50%': 1.0,\n   '75%': 1.0,\n   'max': 4.0},\n  'targetWordsBetween': {'count': 1415.0,\n   'mean': 0.0,\n   'std': 0.0,\n   'min': 0.0,\n   '25%': 0.0,\n   '50%': 0.0,\n   '75%': 0.0,\n   'max': 0.0},\n  'alignmentTxtFrequency': {'count': 1415.0,\n   'mean': 47.76291375844373,\n   'std': 28.53189477994025,\n   'min': 0.0706713780918728,\n   '25%': 14.346289752650176,\n   '50%': 67.42049469964664,\n   '75%': 67.42049469964664,\n   'max': 67.42049469964664},\n  'alignmentsTotal': {'count': 1415.0,\n   'mean': 1415.0,\n   'std': 0.0,\n   'min': 1415.0,\n   '25%': 1415.0,\n   '50%': 1415.0,\n   '75%': 1415.0,\n   'max': 1415.0},\n  'alignmentsTextFreqPeak': {'count': 1415.0,\n   'mean': 67.42049469964662,\n   'std': 1.421587888177764e-14,\n   'min': 67.42049469964664,\n   '25%': 67.42049469964664,\n   '50%': 67.42049469964664,\n   '75%': 67.42049469964664,\n   'max': 67.42049469964664}},\n 'fields': {'alignment_key': [1,\n   1,\n   1,\n   1,\n   1,\n   1,\n   1,\n   1,\n   1,\n   1,\n   1,\n   1,\n   1,\n   1,\n   1,\n   1,\n   1,\n   1,\n   1,\n   1,\n   1,\n   1,\n   1,\n   1,\n   1,\n   1,\n   1,\n   1,\n   1,\n   1,\n   1,\n   1,\n   1,\n   1,\n   1,\n   1,\n   1,\n   1,\n   1,\n   1,\n   1,\n   1,\n   1,\n   1,\n   1,\n   1,\n   1,\n   1,\n   1,\n   1,\n   1,\n   1,\n   1,\n   1,\n   1,\n   1,\n   1,\n   1,\n   1,\n   1,\n   1,\n   1,\n   1,\n   1,\n   1,\n   1,\n   1,\n   1,\n   1,\n   1,\n   1,\n   1,\n   1,\n   1,\n   1,\n   1,\n   1,\n   1,\n   1,\n   1,\n   1,\n   1,\n   1,\n   1,\n   1,\n   1,\n   1,\n   1,\n   1,\n   1,\n   1,\n   1,\n   1,\n   1,\n   1,\n   1,\n   1,\n   1,\n   1,\n   1,\n   1,\n   1,\n   1,\n   1,\n   1,\n   1,\n   1,\n   1,\n   1,\n   1,\n   1,\n   1,\n   1,\n   1,\n   1,\n   1,\n   1,\n   1,\n   1,\n   1,\n   1,\n   1,\n   1,\n   1,\n   1,\n   1,\n   1,\n   1,\n   1,\n   1,\n   1,\n   1,\n   1,\n   1,\n   1,\n   1,\n   1,\n   1,\n   1,\n   1,\n   1,\n   1,\n   1,\n   1,\n   1,\n   1,\n   1,\n   1,\n   1,\n   1,\n   1,\n   1,\n   1,\n   1,\n   1,\n   1,\n   1,\n   1,\n   1,\n   1,\n   1,\n   1,\n   1,\n   1,\n   1,\n   1,\n   1,\n   1,\n   1,\n   1,\n   1,\n   1,\n   1,\n   1,\n   1,\n   1,\n   1,\n   1,\n   1,\n   1,\n   1,\n   1,\n   1,\n   1,\n   1,\n   1,\n   1,\n   1,\n   1,\n   1,\n   1,\n   1,\n   1,\n   1,\n   1,\n   1,\n   1,\n   1,\n   1,\n   1,\n   1,\n   1,\n   1,\n   1,\n   1,\n   1,\n   1,\n   1,\n   1,\n   1,\n   1,\n   1,\n   1,\n   1,\n   1,\n   1,\n   1,\n   1,\n   1,\n   1,\n   1,\n   1,\n   1,\n   1,\n   1,\n   1,\n   1,\n   1,\n   1,\n   1,\n   1,\n   1,\n   1,\n   1,\n   1,\n   1,\n   1,\n   1,\n   1,\n   1,\n   1,\n   1,\n   1,\n   1,\n   1,\n   1,\n   1,\n   1,\n   1,\n   1,\n   1,\n   1,\n   1,\n   1,\n   1,\n   1,\n   1,\n   1,\n   1,\n   1,\n   1,\n   1,\n   1,\n   1,\n   1,\n   1,\n   1,\n   1,\n   1,\n   1,\n   1,\n   1,\n   1,\n   1,\n   1,\n   1,\n   1,\n   1,\n   1,\n   1,\n   1,\n   1,\n   1,\n   1,\n   1,\n   1,\n   1,\n   1,\n   1,\n   1,\n   1,\n   1,\n   1,\n   1,\n   1,\n   1,\n   1,\n   1,\n   1,\n   1,\n   1,\n   1,\n   1,\n   1,\n   1,\n   1,\n   1,\n   1,\n   1,\n   1,\n   1,\n   1,\n   1,\n   1,\n   1,\n   1,\n   1,\n   1,\n   1,\n   1,\n   1,\n   1,\n   1,\n   1,\n   1,\n   1,\n   1,\n   1,\n   1,\n   1,\n   1,\n   1,\n   1,\n   1,\n   1,\n   1,\n   1,\n   1,\n   1,\n   1,\n   1,\n   1,\n   1,\n   1,\n   1,\n   1,\n   1,\n   1,\n   1,\n   1,\n   1,\n   1,\n   1,\n   1,\n   1,\n   1,\n   1,\n   1,\n   1,\n   1,\n   1,\n   1,\n   1,\n   1,\n   1,\n   1,\n   1,\n   1,\n   1,\n   1,\n   1,\n   1,\n   1,\n   1,\n   1,\n   1,\n   1,\n   1,\n   1,\n   1,\n   1,\n   1,\n   1,\n   1,\n   1,\n   1,\n   1,\n   1,\n   1,\n   1,\n   1,\n   1,\n   1,\n   1,\n   1,\n   1,\n   1,\n   1,\n   1,\n   1,\n   1,\n   1,\n   1,\n   1,\n   1,\n   1,\n   1,\n   1,\n   1,\n   1,\n   1,\n   1,\n   1,\n   1,\n   1,\n   1,\n   1,\n   1,\n   1,\n   1,\n   1,\n   1,\n   1,\n   1,\n   1,\n   1,\n   1,\n   1,\n   1,\n   1,\n   1,\n   1,\n   1,\n   1,\n   1,\n   1,\n   1,\n   1,\n   1,\n   1,\n   1,\n   1,\n   1,\n   1,\n   1,\n   1,\n   1,\n   1,\n   1,\n   1,\n   1,\n   1,\n   1,\n   1,\n   1,\n   1,\n   1,\n   1,\n   1,\n   1,\n   1,\n   1,\n   1,\n   1,\n   1,\n   1,\n   1,\n   1,\n   1,\n   1,\n   1,\n   1,\n   1,\n   1,\n   1,\n   1,\n   1,\n   1,\n   1,\n   1,\n   1,\n   1,\n   1,\n   1,\n   1,\n   1,\n   1,\n   1,\n   1,\n   1,\n   1,\n   1,\n   1,\n   1,\n   1,\n   1,\n   1,\n   1,\n   1,\n   1,\n   1,\n   1,\n   1,\n   1,\n   1,\n   1,\n   1,\n   1,\n   1,\n   1,\n   1,\n   1,\n   1,\n   1,\n   1,\n   1,\n   1,\n   1,\n   1,\n   1,\n   1,\n   1,\n   1,\n   1,\n   1,\n   1,\n   1,\n   1,\n   1,\n   1,\n   1,\n   1,\n   1,\n   1,\n   1,\n   1,\n   1,\n   1,\n   1,\n   1,\n   1,\n   1,\n   1,\n   1,\n   1,\n   1,\n   1,\n   1,\n   1,\n   1,\n   1,\n   1,\n   1,\n   1,\n   1,\n   1,\n   1,\n   1,\n   1,\n   1,\n   1,\n   1,\n   1,\n   1,\n   1,\n   1,\n   1,\n   1,\n   1,\n   1,\n   1,\n   1,\n   1,\n   1,\n   1,\n   1,\n   1,\n   1,\n   1,\n   1,\n   1,\n   1,\n   1,\n   1,\n   1,\n   1,\n   1,\n   1,\n   1,\n   1,\n   1,\n   1,\n   1,\n   1,\n   1,\n   1,\n   1,\n   1,\n   1,\n   1,\n   1,\n   1,\n   1,\n   1,\n   1,\n   1,\n   1,\n   1,\n   1,\n   1,\n   1,\n   1,\n   1,\n   1,\n   1,\n   1,\n   1,\n   1,\n   1,\n   1,\n   1,\n   1,\n   1,\n   1,\n   1,\n   1,\n   1,\n   1,\n   1,\n   1,\n   1,\n   1,\n   1,\n   1,\n   1,\n   1,\n   1,\n   1,\n   1,\n   1,\n   1,\n   1,\n   1,\n   1,\n   1,\n   1,\n   1,\n   1,\n   1,\n   1,\n   1,\n   1,\n   1,\n   1,\n   1,\n   1,\n   1,\n   1,\n   1,\n   1,\n   1,\n   1,\n   1,\n   1,\n   1,\n   1,\n   1,\n   1,\n   1,\n   1,\n   1,\n   1,\n   1,\n   1,\n   1,\n   1,\n   1,\n   1,\n   1,\n   1,\n   1,\n   1,\n   1,\n   1,\n   1,\n   1,\n   1,\n   1,\n   1,\n   1,\n   1,\n   1,\n   1,\n   1,\n   1,\n   1,\n   1,\n   1,\n   1,\n   1,\n   1,\n   1,\n   1,\n   1,\n   1,\n   1,\n   1,\n   1,\n   1,\n   1,\n   1,\n   1,\n   1,\n   1,\n   1,\n   1,\n   1,\n   1,\n   1,\n   1,\n   1,\n   1,\n   1,\n   1,\n   1,\n   1,\n   1,\n   1,\n   1,\n   1,\n   1,\n   1,\n   1,\n   1,\n   1,\n   1,\n   1,\n   1,\n   1,\n   1,\n   1,\n   1,\n   1,\n   1,\n   1,\n   1,\n   1,\n   1,\n   1,\n   1,\n   1,\n   1,\n   1,\n   1,\n   1,\n   1,\n   1,\n   1,\n   1,\n   1,\n   1,\n   1,\n   1,\n   1,\n   1,\n   1,\n   1,\n   1,\n   1,\n   1,\n   1,\n   1,\n   1,\n   1,\n   1,\n   1,\n   1,\n   1,\n   1,\n   1,\n   1,\n   1,\n   1,\n   1,\n   1,\n   1,\n   1,\n   1,\n   1,\n   1,\n   1,\n   1,\n   1,\n   1,\n   1,\n   1,\n   1,\n   1,\n   1,\n   1,\n   1,\n   1,\n   1,\n   1,\n   1,\n   1,\n   1,\n   1,\n   1,\n   1,\n   1,\n   1,\n   1,\n   1,\n   1,\n   1,\n   1,\n   1,\n   1,\n   1,\n   1,\n   1,\n   1,\n   1,\n   1,\n   1,\n   1,\n   1,\n   1,\n   1,\n   1,\n   1,\n   1,\n   1,\n   1,\n   1,\n   1,\n   1,\n   1,\n   1,\n   1,\n   1,\n   1,\n   1,\n   1,\n   1,\n   1,\n   1,\n   1,\n   1,\n   1,\n   1,\n   1,\n   1,\n   1,\n   1,\n   1,\n   1,\n   1,\n   1,\n   1,\n   1,\n   1,\n   1,\n   1,\n   1,\n   1,\n   1,\n   1,\n   1,\n   1,\n   1,\n   1,\n   1,\n   1,\n   1,\n   1,\n   1,\n   1,\n   1,\n   1,\n   1,\n   1,\n   1,\n   1,\n   1,\n   1,\n   1,\n   1,\n   1,\n   1,\n   1,\n   1,\n   1,\n   1,\n   1,\n   1,\n   1,\n   1,\n   1,\n   1,\n   1,\n   1,\n   1,\n   1,\n   1,\n   1,\n   1,\n   1,\n   1,\n   1,\n   1,\n   1,\n   1,\n   1,\n   1,\n   1,\n   1,\n   1,\n   1,\n   1,\n   1,\n   1,\n   1,\n   1,\n   1,\n   1,\n   1,\n   1,\n   1,\n   1,\n   1,\n   1,\n   1,\n   1,\n   1,\n   1,\n   1,\n   1,\n   1,\n   1,\n   1,\n   1,\n   1,\n   1,\n   1,\n   1,\n   1,\n   1,\n   1,\n   1,\n   1,\n   1,\n   1,\n   1,\n   1,\n   1,\n   1,\n   1,\n   1,\n   1,\n   1,\n   1,\n   1,\n   1,\n   1,\n   1,\n   1,\n   1,\n   1,\n   1,\n   1,\n   1,\n   1,\n   1,\n   1,\n   1,\n   1,\n   1,\n   1,\n   1,\n   1,\n   1,\n   1,\n   1,\n   1,\n   1,\n   1,\n   1,\n   1,\n   1,\n   1,\n   1,\n   1,\n   1,\n   1,\n   1,\n   1,\n   1,\n   1,\n   ...],\n  'origWordsCount': [1388, 14, 9, 3, 1],\n  'origWordsBetween': [1414, 1],\n  'targetWordsCount': [1334, 70, 7, 4],\n  'targetWordsBetween': [1415],\n  'alignmentTxtFrequency': [954, 203, 54, 53, 51, 34, 18, 12, 10, 9, 9, 8],\n  'alignmentsTotal': [1415],\n  'alignmentsTextFreqPeak': [1415]}}"
     },
     "execution_count": 17,
     "metadata": {},
     "output_type": "execute_result"
    }
   ],
   "source": [
    "db.describeAlignments(origAlignments)"
   ]
  },
  {
   "cell_type": "markdown",
   "metadata": {},
   "source": [
    "### Analysis of alignments for Θεοῦ in the en_ult:"
   ]
  },
  {
   "cell_type": "markdown",
   "metadata": {},
   "source": [
    "#### Frequency of alignments:"
   ]
  },
  {
   "cell_type": "code",
   "execution_count": 18,
   "metadata": {
    "pycharm": {
     "name": "#%%\n"
    }
   },
   "outputs": [
    {
     "name": "stdout",
     "output_type": "stream",
     "text": [
      "αὐτοῦ = his                                    954\n",
      "αὐτοῦ = him                                    203\n",
      "αὐτοῦ = he                                      51\n",
      "αὐτοῦ = its                                     27\n",
      "αὐτοῦ = His                                     27\n",
      "                                              ... \n",
      "τὴν αἰώνιον αὐτοῦ δόξαν = his eternal glory      1\n",
      "αὐτοῦ = over it                                  1\n",
      "αὐτοῦ = himself                                  1\n",
      "αὐτοῦ = with him                                 1\n",
      "αὐτοῦ = beast s                                  1\n",
      "Name: alignmentText, Length: 79, dtype: int64\n"
     ]
    }
   ],
   "source": [
    "frequency = origAlignments['alignmentText'].value_counts()\n",
    "print(frequency)"
   ]
  },
  {
   "cell_type": "markdown",
   "metadata": {},
   "source": [
    "##### Notes:\n",
    "- the left column is the specific alignment, and the right column is the number of times that specific alignment has been made so far in the NT.\n",
    "- alignments that contain more words are more suspect.\n",
    "- in future will combine \"God s\" to \"God's\" before doing analysis\n",
    "<p></p>"
   ]
  },
  {
   "cell_type": "code",
   "execution_count": 19,
   "metadata": {
    "pycharm": {
     "name": "#%%\n"
    }
   },
   "outputs": [
    {
     "data": {
      "text/plain": "<Figure size 792x504 with 1 Axes>",
      "image/png": "[encoded data removed]"
     },
     "metadata": {
      "needs_background": "light"
     },
     "output_type": "display_data"
    }
   ],
   "source": [
    "plot.plotFieldFrequency(frequency, \"\", 'alignment', title=\"Frequency of Alignments\", xNumbers=False, xShowTicks=False)"
   ]
  },
  {
   "cell_type": "markdown",
   "metadata": {},
   "source": [
    "### Analysis:"
   ]
  },
  {
   "cell_type": "markdown",
   "metadata": {},
   "source": [
    "#### Analysis of numerical metrics:"
   ]
  },
  {
   "cell_type": "code",
   "execution_count": 20,
   "metadata": {
    "pycharm": {
     "name": "#%%\n"
    }
   },
   "outputs": [
    {
     "name": "stdout",
     "output_type": "stream",
     "text": [
      "Alignments description:\n",
      "       alignment_key  origWordsCount  origWordsBetween  targetWordsCount  \\\n",
      "count    1415.000000     1415.000000       1415.000000       1415.000000   \n",
      "mean    56414.004240        1.031802          0.001413          1.067845   \n",
      "std     40746.154226        0.254477          0.053168          0.300267   \n",
      "min        21.000000        1.000000          0.000000          1.000000   \n",
      "25%     21498.500000        1.000000          0.000000          1.000000   \n",
      "50%     47073.000000        1.000000          0.000000          1.000000   \n",
      "75%     94699.000000        1.000000          0.000000          1.000000   \n",
      "max    130397.000000        5.000000          2.000000          4.000000   \n",
      "\n",
      "       targetWordsBetween  alignmentTxtFrequency  alignmentsTotal  \\\n",
      "count              1415.0            1415.000000           1415.0   \n",
      "mean                  0.0              47.762914           1415.0   \n",
      "std                   0.0              28.531895              0.0   \n",
      "min                   0.0               0.070671           1415.0   \n",
      "25%                   0.0              14.346290           1415.0   \n",
      "50%                   0.0              67.420495           1415.0   \n",
      "75%                   0.0              67.420495           1415.0   \n",
      "max                   0.0              67.420495           1415.0   \n",
      "\n",
      "       alignmentsTextFreqPeak  \n",
      "count            1.415000e+03  \n",
      "mean             6.742049e+01  \n",
      "std              1.421588e-14  \n",
      "min              6.742049e+01  \n",
      "25%              6.742049e+01  \n",
      "50%              6.742049e+01  \n",
      "75%              6.742049e+01  \n",
      "max              6.742049e+01  \n"
     ]
    }
   ],
   "source": [
    "descr = origAlignments.describe()\n",
    "print(f\"Alignments description:\\n{descr}\")"
   ]
  },
  {
   "cell_type": "markdown",
   "metadata": {},
   "source": [
    "#### Analysis of original language word count:"
   ]
  },
  {
   "cell_type": "code",
   "execution_count": 21,
   "metadata": {
    "pycharm": {
     "name": "#%%\n"
    }
   },
   "outputs": [
    {
     "name": "stdout",
     "output_type": "stream",
     "text": [
      "\n",
      "Frequency of origWordsCount:\n",
      "1    1388\n",
      "2      14\n",
      "3       9\n",
      "4       3\n",
      "5       1\n",
      "Name: origWordsCount, dtype: int64\n"
     ]
    }
   ],
   "source": [
    "field = 'origWordsCount'\n",
    "field_frequency = origAlignments[field].value_counts().sort_index()\n",
    "print(f\"\\nFrequency of {field}:\\n{field_frequency}\")"
   ]
  },
  {
   "cell_type": "markdown",
   "metadata": {},
   "source": [
    "##### Notes:\n",
    "- this field analysis suggests for θεός nearly all the original language word counts are tight. The word counts of 3 may need review. So we could probaby use that as a threshold for to flag for review.\n",
    "<p></p>"
   ]
  },
  {
   "cell_type": "markdown",
   "metadata": {
    "pycharm": {
     "name": "#%% md\n"
    }
   },
   "source": [
    "#### Analysis of target language word count:"
   ]
  },
  {
   "cell_type": "code",
   "execution_count": 22,
   "metadata": {
    "pycharm": {
     "name": "#%%\n"
    }
   },
   "outputs": [
    {
     "name": "stdout",
     "output_type": "stream",
     "text": [
      "\n",
      "Frequency of targetWordsCount:\n",
      "1    1334\n",
      "2      70\n",
      "3       7\n",
      "4       4\n",
      "Name: targetWordsCount, dtype: int64\n"
     ]
    }
   ],
   "source": [
    "field = 'targetWordsCount'\n",
    "field_frequency = origAlignments[field].value_counts().sort_index()\n",
    "print(f\"\\nFrequency of {field}:\\n{field_frequency}\")"
   ]
  },
  {
   "cell_type": "markdown",
   "metadata": {},
   "source": [
    "##### Notes:\n",
    "- this field analysis suggests that for θεός likely all the target language word counts are tight. The word count of 3 probably good for English (`of a god`). But still we could probaby use that as a threshold for to flag for review.\n",
    "<p></p>"
   ]
  },
  {
   "cell_type": "markdown",
   "metadata": {},
   "source": [
    "#### Analysis of count of extra unaligned words between aligned original language words:"
   ]
  },
  {
   "cell_type": "code",
   "execution_count": 23,
   "metadata": {
    "pycharm": {
     "name": "#%%\n"
    }
   },
   "outputs": [
    {
     "name": "stdout",
     "output_type": "stream",
     "text": [
      "\n",
      "Frequency of origWordsBetween:\n",
      "0    1414\n",
      "2       1\n",
      "Name: origWordsBetween, dtype: int64\n"
     ]
    },
    {
     "data": {
      "text/plain": "<Figure size 792x504 with 1 Axes>",
      "image/png": "[encoded data removed]"
     },
     "metadata": {
      "needs_background": "light"
     },
     "output_type": "display_data"
    }
   ],
   "source": [
    "field = 'origWordsBetween'\n",
    "field_frequency = origAlignments[field].value_counts().sort_index()\n",
    "print(f\"\\nFrequency of {field}:\\n{field_frequency}\")\n",
    "plot.plotFieldFrequency(field_frequency, field, f\"Words Between\", max=10)"
   ]
  },
  {
   "cell_type": "markdown",
   "metadata": {},
   "source": [
    "##### Notes:\n",
    "- this field analysis suggests that most original language alignments probably good. Probably the cases of a word between (count > 0) aligned words should be reviewed.\n",
    "<p></p>"
   ]
  },
  {
   "cell_type": "markdown",
   "metadata": {},
   "source": [
    "#### Analysis of count of extra unaligned words between aligned target language words:"
   ]
  },
  {
   "cell_type": "code",
   "execution_count": 24,
   "metadata": {
    "pycharm": {
     "name": "#%%\n"
    }
   },
   "outputs": [
    {
     "name": "stdout",
     "output_type": "stream",
     "text": [
      "\n",
      "Frequency of targetWordsBetween:\n",
      "0    1415\n",
      "Name: targetWordsBetween, dtype: int64\n"
     ]
    },
    {
     "data": {
      "text/plain": "<Figure size 792x504 with 1 Axes>",
      "image/png": "[encoded data removed]"
     },
     "metadata": {
      "needs_background": "light"
     },
     "output_type": "display_data"
    }
   ],
   "source": [
    "field = 'targetWordsBetween'\n",
    "field_frequency = origAlignments[field].value_counts().sort_index()\n",
    "print(f\"\\nFrequency of {field}:\\n{field_frequency}\")\n",
    "plot.plotFieldFrequency(field_frequency, field, f\"Words Between\", max=10)"
   ]
  },
  {
   "cell_type": "markdown",
   "metadata": {
    "pycharm": {
     "name": "#%% md\n"
    }
   },
   "source": [
    "##### Notes:\n",
    "- this field analysis suggests that most target language alignments probably good. Large gaps between aligned words are likely due to wordmap suggesting wrong occurence of a word and the user selecting. Probably the cases of a word between (count > 0) aligned words should be reviewed.\n",
    "<p></p>"
   ]
  },
  {
   "cell_type": "code",
   "execution_count": 13,
   "outputs": [],
   "source": [],
   "metadata": {
    "collapsed": false,
    "pycharm": {
     "name": "#%%\n"
    }
   }
  },
  {
   "cell_type": "code",
   "execution_count": null,
   "outputs": [],
   "source": [],
   "metadata": {
    "collapsed": false,
    "pycharm": {
     "name": "#%%\n"
    }
   }
  }
 ],
 "metadata": {
  "kernelspec": {
   "display_name": "Python 3",
   "language": "python",
   "name": "python3"
  },
  "language_info": {
   "codemirror_mode": {
    "name": "ipython",
    "version": 3
   },
   "file_extension": ".py",
   "mimetype": "text/x-python",
   "name": "python",
   "nbconvert_exporter": "python",
   "pygments_lexer": "ipython3",
   "version": "3.8.5"
  }
 },
 "nbformat": 4,
 "nbformat_minor": 4
}